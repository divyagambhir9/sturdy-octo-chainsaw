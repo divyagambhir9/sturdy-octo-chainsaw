{
    "cells": [
        {
            "metadata": {},
            "cell_type": "code",
            "source": "# Below is demo address.csv",
            "execution_count": 1,
            "outputs": []
        },
        {
            "metadata": {},
            "cell_type": "code",
            "source": "\nimport os, types\nimport pandas as pd\nfrom botocore.client import Config\nimport ibm_boto3\n\ndef __iter__(self): return 0\n\n# @hidden_cell\n# The following code accesses a file in your IBM Cloud Object Storage. It includes your credentials.\n# You might want to remove those credentials before you share the notebook.\nclient_e4e9f5dc2513441694e27d23e27286e8 = ibm_boto3.client(service_name='s3',\n    ibm_api_key_id='u2hqiqFnWf9UXug5D4Fq-76pO5gKTq8x4awHfU3k65v3',\n    ibm_auth_endpoint=\"https://iam.cloud.ibm.com/oidc/token\",\n    config=Config(signature_version='oauth'),\n    endpoint_url='https://s3.private.eu.cloud-object-storage.appdomain.cloud')\n\nbody = client_e4e9f5dc2513441694e27d23e27286e8.get_object(Bucket='divyalearningproject-donotdelete-pr-b2ry4j5mh4vi0j',Key='addresses.csv')['Body']\n# add missing __iter__ method, so pandas accepts body as file-like object\nif not hasattr(body, \"__iter__\"): body.__iter__ = types.MethodType( __iter__, body )\n\ndf_data_1 = pd.read_csv(body)\ndf_data_1.head()\n",
            "execution_count": 2,
            "outputs": [
                {
                    "output_type": "execute_result",
                    "execution_count": 2,
                    "data": {
                        "text/plain": "                    John       Doe                 120 jefferson st.  \\\n0                   Jack  McGinnis                      220 hobo Av.   \n1          John \"Da Man\"    Repici                 120 Jefferson St.   \n2                Stephen     Tyler  7452 Terrace \"At the Plaza\" road   \n3                    NaN  Blankman                               NaN   \n4  Joan \"the bone\", Anne       Jet               9th, at Terrace plc   \n\n     Riverside   NJ   08075  \n0        Phila   PA    9119  \n1    Riverside   NJ    8075  \n2     SomeTown   SD   91234  \n3     SomeTown   SD     298  \n4  Desert City   CO     123  ",
                        "text/html": "<div>\n<style scoped>\n    .dataframe tbody tr th:only-of-type {\n        vertical-align: middle;\n    }\n\n    .dataframe tbody tr th {\n        vertical-align: top;\n    }\n\n    .dataframe thead th {\n        text-align: right;\n    }\n</style>\n<table border=\"1\" class=\"dataframe\">\n  <thead>\n    <tr style=\"text-align: right;\">\n      <th></th>\n      <th>John</th>\n      <th>Doe</th>\n      <th>120 jefferson st.</th>\n      <th>Riverside</th>\n      <th>NJ</th>\n      <th>08075</th>\n    </tr>\n  </thead>\n  <tbody>\n    <tr>\n      <th>0</th>\n      <td>Jack</td>\n      <td>McGinnis</td>\n      <td>220 hobo Av.</td>\n      <td>Phila</td>\n      <td>PA</td>\n      <td>9119</td>\n    </tr>\n    <tr>\n      <th>1</th>\n      <td>John \"Da Man\"</td>\n      <td>Repici</td>\n      <td>120 Jefferson St.</td>\n      <td>Riverside</td>\n      <td>NJ</td>\n      <td>8075</td>\n    </tr>\n    <tr>\n      <th>2</th>\n      <td>Stephen</td>\n      <td>Tyler</td>\n      <td>7452 Terrace \"At the Plaza\" road</td>\n      <td>SomeTown</td>\n      <td>SD</td>\n      <td>91234</td>\n    </tr>\n    <tr>\n      <th>3</th>\n      <td>NaN</td>\n      <td>Blankman</td>\n      <td>NaN</td>\n      <td>SomeTown</td>\n      <td>SD</td>\n      <td>298</td>\n    </tr>\n    <tr>\n      <th>4</th>\n      <td>Joan \"the bone\", Anne</td>\n      <td>Jet</td>\n      <td>9th, at Terrace plc</td>\n      <td>Desert City</td>\n      <td>CO</td>\n      <td>123</td>\n    </tr>\n  </tbody>\n</table>\n</div>"
                    },
                    "metadata": {}
                }
            ]
        },
        {
            "metadata": {},
            "cell_type": "code",
            "source": "",
            "execution_count": null,
            "outputs": []
        }
    ],
    "metadata": {
        "kernelspec": {
            "name": "python3",
            "display_name": "Python 3.9",
            "language": "python"
        },
        "language_info": {
            "name": "python",
            "version": "3.9.7",
            "mimetype": "text/x-python",
            "codemirror_mode": {
                "name": "ipython",
                "version": 3
            },
            "pygments_lexer": "ipython3",
            "nbconvert_exporter": "python",
            "file_extension": ".py"
        }
    },
    "nbformat": 4,
    "nbformat_minor": 1
}